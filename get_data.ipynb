{
 "cells": [
  {
   "cell_type": "code",
   "execution_count": null,
   "id": "16fdcec2",
   "metadata": {},
   "outputs": [],
   "source": [
    "import pandas as pd \n",
    "import gspread\n",
    "from oauth2client.service_account import ServiceAccountCredentials\n",
    "import calendar\n",
    "from datetime import date\n",
    "import holidays\n",
    "from pandas.tseries.offsets import CustomBusinessDay\n",
    "import numpy as np\n",
    "\n",
    "    \n",
    "# Define o escopo\n",
    "scope = ['https://spreadsheets.google.com/feeds', 'https://www.googleapis.com/auth/drive']\n",
    "\n",
    "# Autenticação com o arquivo de credenciais\n",
    "creds = ServiceAccountCredentials.from_json_keyfile_name('C:/Users/novo1/OneDrive/Desktop/Dev/Dashboard - Mentoria/dashboard-mentoria-465319-91c10422d534.json', scope)\n",
    "client = gspread.authorize(creds)\n",
    "\n",
    "# Abrind    o as Planilhas com os dados\n",
    "planilha_respostas = client.open_by_url(\"https://docs.google.com/spreadsheets/d/1V1d0MsCQxT-a4yChAtLfzVuiXyTzjjiFqw37yASqlmE/edit?gid=1498245696#gid=1498245696\")\n",
    "planilha_controle = client.open_by_url(\"https://docs.google.com/spreadsheets/d/1BvFVsdi5NBkoA7Lyq64b6T7_ZGBZYBQ5ONTTfWuzB0s/edit?resourcekey=&gid=706238849#gid=706238849\")\n",
    "\n",
    "# Pegando a aba com as informações de Mentorados\n",
    "aba_control = planilha_controle.worksheet(\"Forms Control\")\n",
    "dados_control = aba_control.get_all_records()\n",
    "\n",
    "# Transformando em dataframe\n",
    "df_controle = pd.DataFrame(dados_control)\n",
    "\n",
    "# Criando a lista de mentorados\n",
    "df_controle = df_controle.loc[df_controle[\"CLÍNICA\"] != 'Padrão']\n",
    "lista_mentorados = df_controle[\"CLÍNICA\"].unique().tolist()\n",
    "\n",
    "lista_de_dfs = []\n",
    "\n",
    "for clinic in lista_mentorados:\n",
    "    aba_respostas = planilha_respostas.worksheet(clinic)\n",
    "    dados_resposta = aba_respostas.get_all_records()\n",
    "\n",
    "    df_respostas = pd.DataFrame(dados_resposta)\n",
    "\n",
    "    df_respostas[\"Clinica\"] = clinic\n",
    "\n",
    "    lista_de_dfs.append(df_respostas)\n",
    "    print(f\"adicionando : {clinic}\")\n",
    "print(f\"Todas clinicas adicionadas\")\n",
    "df_final = pd.concat(lista_de_dfs, ignore_index=True)\n",
    "\n",
    "#Treating Dataframe: \n",
    "\n",
    "df_final_columns = ['Clinica','Data','Qual a sua Meta de Faturamento?', 'Leads Gerados no Dia:',\n",
    "                    'Avaliações Realizadas no Dia:','Atendimentos Realizados no dia.\\n(considerando Avaliação)',\n",
    "                    'Quantidade de Pedidos Gerados no DIa:','Valor Vendido no Dia (somente número):']\n",
    "\n",
    "df_final = df_final[df_final_columns]\n",
    "\n",
    "df_final\n"
   ]
  },
  {
   "cell_type": "code",
   "execution_count": 1,
   "id": "2a728448",
   "metadata": {},
   "outputs": [
    {
     "name": "stderr",
     "output_type": "stream",
     "text": [
      "2025-07-31 12:02:59.319 WARNING streamlit.runtime.scriptrunner_utils.script_run_context: Thread 'MainThread': missing ScriptRunContext! This warning can be ignored when running in bare mode.\n",
      "2025-07-31 12:02:59.873 \n",
      "  \u001b[33m\u001b[1mWarning:\u001b[0m to view this Streamlit app on a browser, run it with the following\n",
      "  command:\n",
      "\n",
      "    streamlit run c:\\Users\\novo1\\OneDrive\\Desktop\\Dev\\Dashboard - Mentoria\\env\\Lib\\site-packages\\ipykernel_launcher.py [ARGUMENTS]\n",
      "2025-07-31 12:02:59.873 Thread 'MainThread': missing ScriptRunContext! This warning can be ignored when running in bare mode.\n",
      "2025-07-31 12:02:59.873 Thread 'MainThread': missing ScriptRunContext! This warning can be ignored when running in bare mode.\n",
      "2025-07-31 12:02:59.873 Thread 'MainThread': missing ScriptRunContext! This warning can be ignored when running in bare mode.\n",
      "2025-07-31 12:03:00.294 Thread 'MainThread': missing ScriptRunContext! This warning can be ignored when running in bare mode.\n",
      "2025-07-31 12:03:00.294 Thread 'MainThread': missing ScriptRunContext! This warning can be ignored when running in bare mode.\n",
      "2025-07-31 12:03:00.294 Thread 'MainThread': missing ScriptRunContext! This warning can be ignored when running in bare mode.\n",
      "2025-07-31 12:03:00.301 No runtime found, using MemoryCacheStorageManager\n",
      "2025-07-31 12:03:00.305 No runtime found, using MemoryCacheStorageManager\n",
      "2025-07-31 12:03:00.307 Thread 'MainThread': missing ScriptRunContext! This warning can be ignored when running in bare mode.\n",
      "2025-07-31 12:03:00.307 Thread 'MainThread': missing ScriptRunContext! This warning can be ignored when running in bare mode.\n",
      "2025-07-31 12:03:00.311 Thread 'MainThread': missing ScriptRunContext! This warning can be ignored when running in bare mode.\n",
      "2025-07-31 12:03:00.311 Thread 'MainThread': missing ScriptRunContext! This warning can be ignored when running in bare mode.\n",
      "2025-07-31 12:03:00.830 Thread 'Thread-4': missing ScriptRunContext! This warning can be ignored when running in bare mode.\n",
      "2025-07-31 12:03:00.830 Thread 'Thread-4': missing ScriptRunContext! This warning can be ignored when running in bare mode.\n",
      "2025-07-31 12:03:00.836 Thread 'Thread-4': missing ScriptRunContext! This warning can be ignored when running in bare mode.\n",
      "2025-07-31 12:03:03.111 Thread 'MainThread': missing ScriptRunContext! This warning can be ignored when running in bare mode.\n",
      "2025-07-31 12:03:03.111 Thread 'MainThread': missing ScriptRunContext! This warning can be ignored when running in bare mode.\n",
      "2025-07-31 12:03:03.111 Thread 'MainThread': missing ScriptRunContext! This warning can be ignored when running in bare mode.\n",
      "2025-07-31 12:03:06.116 No runtime found, using MemoryCacheStorageManager\n",
      "2025-07-31 12:03:06.121 Thread 'MainThread': missing ScriptRunContext! This warning can be ignored when running in bare mode.\n",
      "2025-07-31 12:03:06.121 Thread 'MainThread': missing ScriptRunContext! This warning can be ignored when running in bare mode.\n",
      "2025-07-31 12:03:06.123 Thread 'MainThread': missing ScriptRunContext! This warning can be ignored when running in bare mode.\n",
      "2025-07-31 12:03:06.123 Thread 'MainThread': missing ScriptRunContext! This warning can be ignored when running in bare mode.\n",
      "2025-07-31 12:03:06.632 Thread 'Thread-5': missing ScriptRunContext! This warning can be ignored when running in bare mode.\n",
      "2025-07-31 12:03:06.638 Thread 'Thread-5': missing ScriptRunContext! This warning can be ignored when running in bare mode.\n",
      "2025-07-31 12:03:06.731 Thread 'Thread-5': missing ScriptRunContext! This warning can be ignored when running in bare mode.\n",
      "2025-07-31 12:03:07.099 Thread 'MainThread': missing ScriptRunContext! This warning can be ignored when running in bare mode.\n",
      "2025-07-31 12:03:07.102 Thread 'MainThread': missing ScriptRunContext! This warning can be ignored when running in bare mode.\n",
      "2025-07-31 12:03:07.102 Thread 'MainThread': missing ScriptRunContext! This warning can be ignored when running in bare mode.\n"
     ]
    },
    {
     "name": "stdout",
     "output_type": "stream",
     "text": [
      "adicionando : MITRAS ESTÉTICA\n"
     ]
    },
    {
     "name": "stderr",
     "output_type": "stream",
     "text": [
      "2025-07-31 12:03:10.105 No runtime found, using MemoryCacheStorageManager\n",
      "2025-07-31 12:03:10.108 Thread 'MainThread': missing ScriptRunContext! This warning can be ignored when running in bare mode.\n",
      "2025-07-31 12:03:10.108 Thread 'MainThread': missing ScriptRunContext! This warning can be ignored when running in bare mode.\n",
      "2025-07-31 12:03:10.108 Thread 'MainThread': missing ScriptRunContext! This warning can be ignored when running in bare mode.\n",
      "2025-07-31 12:03:10.114 Thread 'MainThread': missing ScriptRunContext! This warning can be ignored when running in bare mode.\n",
      "2025-07-31 12:03:10.625 Thread 'Thread-6': missing ScriptRunContext! This warning can be ignored when running in bare mode.\n",
      "2025-07-31 12:03:10.626 Thread 'Thread-6': missing ScriptRunContext! This warning can be ignored when running in bare mode.\n",
      "2025-07-31 12:03:10.626 Thread 'Thread-6': missing ScriptRunContext! This warning can be ignored when running in bare mode.\n",
      "2025-07-31 12:03:11.017 Thread 'MainThread': missing ScriptRunContext! This warning can be ignored when running in bare mode.\n",
      "2025-07-31 12:03:11.017 Thread 'MainThread': missing ScriptRunContext! This warning can be ignored when running in bare mode.\n",
      "2025-07-31 12:03:11.017 Thread 'MainThread': missing ScriptRunContext! This warning can be ignored when running in bare mode.\n"
     ]
    },
    {
     "name": "stdout",
     "output_type": "stream",
     "text": [
      "adicionando : T DANTAS DOS SANTOS LTDA\n"
     ]
    },
    {
     "name": "stderr",
     "output_type": "stream",
     "text": [
      "2025-07-31 12:03:14.023 No runtime found, using MemoryCacheStorageManager\n",
      "2025-07-31 12:03:14.023 Thread 'MainThread': missing ScriptRunContext! This warning can be ignored when running in bare mode.\n",
      "2025-07-31 12:03:14.023 Thread 'MainThread': missing ScriptRunContext! This warning can be ignored when running in bare mode.\n",
      "2025-07-31 12:03:14.030 Thread 'MainThread': missing ScriptRunContext! This warning can be ignored when running in bare mode.\n",
      "2025-07-31 12:03:14.032 Thread 'MainThread': missing ScriptRunContext! This warning can be ignored when running in bare mode.\n",
      "2025-07-31 12:03:14.537 Thread 'Thread-7': missing ScriptRunContext! This warning can be ignored when running in bare mode.\n",
      "2025-07-31 12:03:14.537 Thread 'Thread-7': missing ScriptRunContext! This warning can be ignored when running in bare mode.\n",
      "2025-07-31 12:03:14.537 Thread 'Thread-7': missing ScriptRunContext! This warning can be ignored when running in bare mode.\n",
      "2025-07-31 12:03:15.418 Thread 'MainThread': missing ScriptRunContext! This warning can be ignored when running in bare mode.\n",
      "2025-07-31 12:03:15.418 Thread 'MainThread': missing ScriptRunContext! This warning can be ignored when running in bare mode.\n",
      "2025-07-31 12:03:15.418 Thread 'MainThread': missing ScriptRunContext! This warning can be ignored when running in bare mode.\n"
     ]
    },
    {
     "name": "stdout",
     "output_type": "stream",
     "text": [
      "adicionando : CLÍNICA KAYA\n"
     ]
    },
    {
     "name": "stderr",
     "output_type": "stream",
     "text": [
      "2025-07-31 12:03:18.429 No runtime found, using MemoryCacheStorageManager\n",
      "2025-07-31 12:03:18.429 Thread 'MainThread': missing ScriptRunContext! This warning can be ignored when running in bare mode.\n",
      "2025-07-31 12:03:18.437 Thread 'MainThread': missing ScriptRunContext! This warning can be ignored when running in bare mode.\n",
      "2025-07-31 12:03:18.438 Thread 'MainThread': missing ScriptRunContext! This warning can be ignored when running in bare mode.\n",
      "2025-07-31 12:03:18.440 Thread 'MainThread': missing ScriptRunContext! This warning can be ignored when running in bare mode.\n",
      "2025-07-31 12:03:18.946 Thread 'Thread-8': missing ScriptRunContext! This warning can be ignored when running in bare mode.\n",
      "2025-07-31 12:03:18.949 Thread 'Thread-8': missing ScriptRunContext! This warning can be ignored when running in bare mode.\n",
      "2025-07-31 12:03:18.954 Thread 'Thread-8': missing ScriptRunContext! This warning can be ignored when running in bare mode.\n",
      "2025-07-31 12:03:19.835 Thread 'MainThread': missing ScriptRunContext! This warning can be ignored when running in bare mode.\n",
      "2025-07-31 12:03:19.837 Thread 'MainThread': missing ScriptRunContext! This warning can be ignored when running in bare mode.\n",
      "2025-07-31 12:03:19.837 Thread 'MainThread': missing ScriptRunContext! This warning can be ignored when running in bare mode.\n"
     ]
    },
    {
     "name": "stdout",
     "output_type": "stream",
     "text": [
      "adicionando : BARRUFINI E VIDIGAL LTDA ESPAÇO LASER\n"
     ]
    },
    {
     "name": "stderr",
     "output_type": "stream",
     "text": [
      "2025-07-31 12:03:22.846 No runtime found, using MemoryCacheStorageManager\n",
      "2025-07-31 12:03:22.848 Thread 'MainThread': missing ScriptRunContext! This warning can be ignored when running in bare mode.\n",
      "2025-07-31 12:03:22.848 Thread 'MainThread': missing ScriptRunContext! This warning can be ignored when running in bare mode.\n",
      "2025-07-31 12:03:22.853 Thread 'MainThread': missing ScriptRunContext! This warning can be ignored when running in bare mode.\n",
      "2025-07-31 12:03:22.854 Thread 'MainThread': missing ScriptRunContext! This warning can be ignored when running in bare mode.\n",
      "2025-07-31 12:03:23.369 Thread 'Thread-9': missing ScriptRunContext! This warning can be ignored when running in bare mode.\n",
      "2025-07-31 12:03:23.375 Thread 'Thread-9': missing ScriptRunContext! This warning can be ignored when running in bare mode.\n",
      "2025-07-31 12:03:23.379 Thread 'Thread-9': missing ScriptRunContext! This warning can be ignored when running in bare mode.\n",
      "2025-07-31 12:03:24.195 Thread 'MainThread': missing ScriptRunContext! This warning can be ignored when running in bare mode.\n",
      "2025-07-31 12:03:24.203 Thread 'MainThread': missing ScriptRunContext! This warning can be ignored when running in bare mode.\n",
      "2025-07-31 12:03:24.204 Thread 'MainThread': missing ScriptRunContext! This warning can be ignored when running in bare mode.\n"
     ]
    },
    {
     "name": "stdout",
     "output_type": "stream",
     "text": [
      "adicionando : CLÍNICA DRA JESSICA CRUZ\n"
     ]
    },
    {
     "name": "stderr",
     "output_type": "stream",
     "text": [
      "2025-07-31 12:03:27.210 No runtime found, using MemoryCacheStorageManager\n",
      "2025-07-31 12:03:27.211 Thread 'MainThread': missing ScriptRunContext! This warning can be ignored when running in bare mode.\n",
      "2025-07-31 12:03:27.211 Thread 'MainThread': missing ScriptRunContext! This warning can be ignored when running in bare mode.\n",
      "2025-07-31 12:03:27.211 Thread 'MainThread': missing ScriptRunContext! This warning can be ignored when running in bare mode.\n",
      "2025-07-31 12:03:27.211 Thread 'MainThread': missing ScriptRunContext! This warning can be ignored when running in bare mode.\n",
      "2025-07-31 12:03:27.719 Thread 'Thread-10': missing ScriptRunContext! This warning can be ignored when running in bare mode.\n",
      "2025-07-31 12:03:27.720 Thread 'Thread-10': missing ScriptRunContext! This warning can be ignored when running in bare mode.\n",
      "2025-07-31 12:03:27.727 Thread 'Thread-10': missing ScriptRunContext! This warning can be ignored when running in bare mode.\n",
      "2025-07-31 12:03:28.494 Thread 'MainThread': missing ScriptRunContext! This warning can be ignored when running in bare mode.\n",
      "2025-07-31 12:03:28.494 Thread 'MainThread': missing ScriptRunContext! This warning can be ignored when running in bare mode.\n",
      "2025-07-31 12:03:28.494 Thread 'MainThread': missing ScriptRunContext! This warning can be ignored when running in bare mode.\n"
     ]
    },
    {
     "name": "stdout",
     "output_type": "stream",
     "text": [
      "adicionando : ATUAL ESTÉTICA E IMAGEM PESSOAL\n"
     ]
    },
    {
     "name": "stderr",
     "output_type": "stream",
     "text": [
      "2025-07-31 12:03:31.505 No runtime found, using MemoryCacheStorageManager\n",
      "2025-07-31 12:03:31.509 Thread 'MainThread': missing ScriptRunContext! This warning can be ignored when running in bare mode.\n",
      "2025-07-31 12:03:31.509 Thread 'MainThread': missing ScriptRunContext! This warning can be ignored when running in bare mode.\n",
      "2025-07-31 12:03:31.509 Thread 'MainThread': missing ScriptRunContext! This warning can be ignored when running in bare mode.\n",
      "2025-07-31 12:03:31.509 Thread 'MainThread': missing ScriptRunContext! This warning can be ignored when running in bare mode.\n",
      "2025-07-31 12:03:32.018 Thread 'Thread-11': missing ScriptRunContext! This warning can be ignored when running in bare mode.\n",
      "2025-07-31 12:03:32.018 Thread 'Thread-11': missing ScriptRunContext! This warning can be ignored when running in bare mode.\n",
      "2025-07-31 12:03:32.018 Thread 'Thread-11': missing ScriptRunContext! This warning can be ignored when running in bare mode.\n",
      "2025-07-31 12:03:32.843 Thread 'MainThread': missing ScriptRunContext! This warning can be ignored when running in bare mode.\n",
      "2025-07-31 12:03:32.843 Thread 'MainThread': missing ScriptRunContext! This warning can be ignored when running in bare mode.\n",
      "2025-07-31 12:03:32.843 Thread 'MainThread': missing ScriptRunContext! This warning can be ignored when running in bare mode.\n"
     ]
    },
    {
     "name": "stdout",
     "output_type": "stream",
     "text": [
      "adicionando : CLAUDIA PELUCO ESTÉTICA E SAÚDE LTDA\n"
     ]
    },
    {
     "name": "stderr",
     "output_type": "stream",
     "text": [
      "2025-07-31 12:03:35.853 No runtime found, using MemoryCacheStorageManager\n",
      "2025-07-31 12:03:35.853 Thread 'MainThread': missing ScriptRunContext! This warning can be ignored when running in bare mode.\n",
      "2025-07-31 12:03:35.859 Thread 'MainThread': missing ScriptRunContext! This warning can be ignored when running in bare mode.\n",
      "2025-07-31 12:03:35.859 Thread 'MainThread': missing ScriptRunContext! This warning can be ignored when running in bare mode.\n",
      "2025-07-31 12:03:35.859 Thread 'MainThread': missing ScriptRunContext! This warning can be ignored when running in bare mode.\n",
      "2025-07-31 12:03:36.366 Thread 'Thread-12': missing ScriptRunContext! This warning can be ignored when running in bare mode.\n",
      "2025-07-31 12:03:36.367 Thread 'Thread-12': missing ScriptRunContext! This warning can be ignored when running in bare mode.\n",
      "2025-07-31 12:03:36.367 Thread 'Thread-12': missing ScriptRunContext! This warning can be ignored when running in bare mode.\n",
      "2025-07-31 12:03:37.020 Thread 'MainThread': missing ScriptRunContext! This warning can be ignored when running in bare mode.\n",
      "2025-07-31 12:03:37.020 Thread 'MainThread': missing ScriptRunContext! This warning can be ignored when running in bare mode.\n",
      "2025-07-31 12:03:37.024 Thread 'MainThread': missing ScriptRunContext! This warning can be ignored when running in bare mode.\n"
     ]
    },
    {
     "name": "stdout",
     "output_type": "stream",
     "text": [
      "adicionando : CENTRO DE ESTÉTICA DANIELA DA ROSA\n"
     ]
    },
    {
     "name": "stderr",
     "output_type": "stream",
     "text": [
      "2025-07-31 12:03:40.027 No runtime found, using MemoryCacheStorageManager\n",
      "2025-07-31 12:03:40.033 Thread 'MainThread': missing ScriptRunContext! This warning can be ignored when running in bare mode.\n",
      "2025-07-31 12:03:40.033 Thread 'MainThread': missing ScriptRunContext! This warning can be ignored when running in bare mode.\n",
      "2025-07-31 12:03:40.037 Thread 'MainThread': missing ScriptRunContext! This warning can be ignored when running in bare mode.\n",
      "2025-07-31 12:03:40.037 Thread 'MainThread': missing ScriptRunContext! This warning can be ignored when running in bare mode.\n",
      "2025-07-31 12:03:40.548 Thread 'Thread-13': missing ScriptRunContext! This warning can be ignored when running in bare mode.\n",
      "2025-07-31 12:03:40.549 Thread 'Thread-13': missing ScriptRunContext! This warning can be ignored when running in bare mode.\n",
      "2025-07-31 12:03:40.554 Thread 'Thread-13': missing ScriptRunContext! This warning can be ignored when running in bare mode.\n",
      "2025-07-31 12:03:41.023 Thread 'MainThread': missing ScriptRunContext! This warning can be ignored when running in bare mode.\n",
      "2025-07-31 12:03:41.023 Thread 'MainThread': missing ScriptRunContext! This warning can be ignored when running in bare mode.\n",
      "2025-07-31 12:03:41.032 Thread 'MainThread': missing ScriptRunContext! This warning can be ignored when running in bare mode.\n"
     ]
    },
    {
     "name": "stdout",
     "output_type": "stream",
     "text": [
      "adicionando : MSP ESTETICA LTDA\n"
     ]
    },
    {
     "name": "stderr",
     "output_type": "stream",
     "text": [
      "2025-07-31 12:03:44.035 No runtime found, using MemoryCacheStorageManager\n",
      "2025-07-31 12:03:44.040 Thread 'MainThread': missing ScriptRunContext! This warning can be ignored when running in bare mode.\n",
      "2025-07-31 12:03:44.040 Thread 'MainThread': missing ScriptRunContext! This warning can be ignored when running in bare mode.\n",
      "2025-07-31 12:03:44.040 Thread 'MainThread': missing ScriptRunContext! This warning can be ignored when running in bare mode.\n",
      "2025-07-31 12:03:44.040 Thread 'MainThread': missing ScriptRunContext! This warning can be ignored when running in bare mode.\n",
      "2025-07-31 12:03:44.548 Thread 'Thread-14': missing ScriptRunContext! This warning can be ignored when running in bare mode.\n",
      "2025-07-31 12:03:44.551 Thread 'Thread-14': missing ScriptRunContext! This warning can be ignored when running in bare mode.\n",
      "2025-07-31 12:03:44.551 Thread 'Thread-14': missing ScriptRunContext! This warning can be ignored when running in bare mode.\n",
      "2025-07-31 12:03:45.131 Thread 'MainThread': missing ScriptRunContext! This warning can be ignored when running in bare mode.\n",
      "2025-07-31 12:03:45.131 Thread 'MainThread': missing ScriptRunContext! This warning can be ignored when running in bare mode.\n",
      "2025-07-31 12:03:45.138 Thread 'MainThread': missing ScriptRunContext! This warning can be ignored when running in bare mode.\n"
     ]
    },
    {
     "name": "stdout",
     "output_type": "stream",
     "text": [
      "adicionando : DENT.AI\n"
     ]
    },
    {
     "name": "stderr",
     "output_type": "stream",
     "text": [
      "2025-07-31 12:03:48.143 No runtime found, using MemoryCacheStorageManager\n",
      "2025-07-31 12:03:48.149 Thread 'MainThread': missing ScriptRunContext! This warning can be ignored when running in bare mode.\n",
      "2025-07-31 12:03:48.149 Thread 'MainThread': missing ScriptRunContext! This warning can be ignored when running in bare mode.\n",
      "2025-07-31 12:03:48.149 Thread 'MainThread': missing ScriptRunContext! This warning can be ignored when running in bare mode.\n",
      "2025-07-31 12:03:48.154 Thread 'MainThread': missing ScriptRunContext! This warning can be ignored when running in bare mode.\n",
      "2025-07-31 12:03:48.662 Thread 'Thread-15': missing ScriptRunContext! This warning can be ignored when running in bare mode.\n",
      "2025-07-31 12:03:48.663 Thread 'Thread-15': missing ScriptRunContext! This warning can be ignored when running in bare mode.\n",
      "2025-07-31 12:03:48.663 Thread 'Thread-15': missing ScriptRunContext! This warning can be ignored when running in bare mode.\n",
      "2025-07-31 12:03:49.571 Thread 'MainThread': missing ScriptRunContext! This warning can be ignored when running in bare mode.\n",
      "2025-07-31 12:03:49.571 Thread 'MainThread': missing ScriptRunContext! This warning can be ignored when running in bare mode.\n",
      "2025-07-31 12:03:49.571 Thread 'MainThread': missing ScriptRunContext! This warning can be ignored when running in bare mode.\n"
     ]
    },
    {
     "name": "stdout",
     "output_type": "stream",
     "text": [
      "adicionando : RAFAELA FERNANDES SERVIOS MÉDICOS\n"
     ]
    },
    {
     "name": "stderr",
     "output_type": "stream",
     "text": [
      "2025-07-31 12:03:52.579 No runtime found, using MemoryCacheStorageManager\n",
      "2025-07-31 12:03:52.579 Thread 'MainThread': missing ScriptRunContext! This warning can be ignored when running in bare mode.\n",
      "2025-07-31 12:03:52.579 Thread 'MainThread': missing ScriptRunContext! This warning can be ignored when running in bare mode.\n",
      "2025-07-31 12:03:52.586 Thread 'MainThread': missing ScriptRunContext! This warning can be ignored when running in bare mode.\n",
      "2025-07-31 12:03:52.588 Thread 'MainThread': missing ScriptRunContext! This warning can be ignored when running in bare mode.\n",
      "2025-07-31 12:03:53.094 Thread 'Thread-16': missing ScriptRunContext! This warning can be ignored when running in bare mode.\n",
      "2025-07-31 12:03:53.098 Thread 'Thread-16': missing ScriptRunContext! This warning can be ignored when running in bare mode.\n",
      "2025-07-31 12:03:53.098 Thread 'Thread-16': missing ScriptRunContext! This warning can be ignored when running in bare mode.\n",
      "2025-07-31 12:03:53.390 Thread 'MainThread': missing ScriptRunContext! This warning can be ignored when running in bare mode.\n",
      "2025-07-31 12:03:53.390 Thread 'MainThread': missing ScriptRunContext! This warning can be ignored when running in bare mode.\n",
      "2025-07-31 12:03:53.394 Thread 'MainThread': missing ScriptRunContext! This warning can be ignored when running in bare mode.\n"
     ]
    },
    {
     "name": "stdout",
     "output_type": "stream",
     "text": [
      "adicionando : INSTITUTO PELE E SAUDE\n"
     ]
    },
    {
     "name": "stderr",
     "output_type": "stream",
     "text": [
      "2025-07-31 12:03:56.397 No runtime found, using MemoryCacheStorageManager\n",
      "2025-07-31 12:03:56.402 Thread 'MainThread': missing ScriptRunContext! This warning can be ignored when running in bare mode.\n",
      "2025-07-31 12:03:56.402 Thread 'MainThread': missing ScriptRunContext! This warning can be ignored when running in bare mode.\n",
      "2025-07-31 12:03:56.402 Thread 'MainThread': missing ScriptRunContext! This warning can be ignored when running in bare mode.\n",
      "2025-07-31 12:03:56.408 Thread 'MainThread': missing ScriptRunContext! This warning can be ignored when running in bare mode.\n",
      "2025-07-31 12:03:56.919 Thread 'Thread-17': missing ScriptRunContext! This warning can be ignored when running in bare mode.\n",
      "2025-07-31 12:03:56.919 Thread 'Thread-17': missing ScriptRunContext! This warning can be ignored when running in bare mode.\n",
      "2025-07-31 12:03:56.919 Thread 'Thread-17': missing ScriptRunContext! This warning can be ignored when running in bare mode.\n",
      "2025-07-31 12:03:57.318 Thread 'MainThread': missing ScriptRunContext! This warning can be ignored when running in bare mode.\n",
      "2025-07-31 12:03:57.318 Thread 'MainThread': missing ScriptRunContext! This warning can be ignored when running in bare mode.\n",
      "2025-07-31 12:03:57.318 Thread 'MainThread': missing ScriptRunContext! This warning can be ignored when running in bare mode.\n"
     ]
    },
    {
     "name": "stdout",
     "output_type": "stream",
     "text": [
      "adicionando : BEAUTY GLOW ACADEMY\n"
     ]
    },
    {
     "name": "stderr",
     "output_type": "stream",
     "text": [
      "2025-07-31 12:04:00.326 No runtime found, using MemoryCacheStorageManager\n",
      "2025-07-31 12:04:00.329 Thread 'MainThread': missing ScriptRunContext! This warning can be ignored when running in bare mode.\n",
      "2025-07-31 12:04:00.329 Thread 'MainThread': missing ScriptRunContext! This warning can be ignored when running in bare mode.\n",
      "2025-07-31 12:04:00.329 Thread 'MainThread': missing ScriptRunContext! This warning can be ignored when running in bare mode.\n",
      "2025-07-31 12:04:00.329 Thread 'MainThread': missing ScriptRunContext! This warning can be ignored when running in bare mode.\n",
      "2025-07-31 12:04:00.844 Thread 'Thread-18': missing ScriptRunContext! This warning can be ignored when running in bare mode.\n",
      "2025-07-31 12:04:00.861 Thread 'Thread-18': missing ScriptRunContext! This warning can be ignored when running in bare mode.\n",
      "2025-07-31 12:04:00.861 Thread 'Thread-18': missing ScriptRunContext! This warning can be ignored when running in bare mode.\n",
      "2025-07-31 12:04:01.451 Thread 'MainThread': missing ScriptRunContext! This warning can be ignored when running in bare mode.\n",
      "2025-07-31 12:04:01.451 Thread 'MainThread': missing ScriptRunContext! This warning can be ignored when running in bare mode.\n",
      "2025-07-31 12:04:01.451 Thread 'MainThread': missing ScriptRunContext! This warning can be ignored when running in bare mode.\n"
     ]
    },
    {
     "name": "stdout",
     "output_type": "stream",
     "text": [
      "adicionando : INSTITUTO DERME\n"
     ]
    },
    {
     "name": "stderr",
     "output_type": "stream",
     "text": [
      "2025-07-31 12:04:04.461 No runtime found, using MemoryCacheStorageManager\n",
      "2025-07-31 12:04:04.465 Thread 'MainThread': missing ScriptRunContext! This warning can be ignored when running in bare mode.\n",
      "2025-07-31 12:04:04.466 Thread 'MainThread': missing ScriptRunContext! This warning can be ignored when running in bare mode.\n",
      "2025-07-31 12:04:04.466 Thread 'MainThread': missing ScriptRunContext! This warning can be ignored when running in bare mode.\n",
      "2025-07-31 12:04:04.466 Thread 'MainThread': missing ScriptRunContext! This warning can be ignored when running in bare mode.\n",
      "2025-07-31 12:04:04.976 Thread 'Thread-19': missing ScriptRunContext! This warning can be ignored when running in bare mode.\n",
      "2025-07-31 12:04:04.976 Thread 'Thread-19': missing ScriptRunContext! This warning can be ignored when running in bare mode.\n",
      "2025-07-31 12:04:04.976 Thread 'Thread-19': missing ScriptRunContext! This warning can be ignored when running in bare mode.\n",
      "2025-07-31 12:04:05.725 Thread 'MainThread': missing ScriptRunContext! This warning can be ignored when running in bare mode.\n",
      "2025-07-31 12:04:05.725 Thread 'MainThread': missing ScriptRunContext! This warning can be ignored when running in bare mode.\n",
      "2025-07-31 12:04:05.725 Thread 'MainThread': missing ScriptRunContext! This warning can be ignored when running in bare mode.\n"
     ]
    },
    {
     "name": "stdout",
     "output_type": "stream",
     "text": [
      "adicionando : JESSILY RIBAS TORRES DE AZEVEDO LTDA\n"
     ]
    },
    {
     "name": "stderr",
     "output_type": "stream",
     "text": [
      "2025-07-31 12:04:08.735 No runtime found, using MemoryCacheStorageManager\n",
      "2025-07-31 12:04:08.740 Thread 'MainThread': missing ScriptRunContext! This warning can be ignored when running in bare mode.\n",
      "2025-07-31 12:04:08.740 Thread 'MainThread': missing ScriptRunContext! This warning can be ignored when running in bare mode.\n",
      "2025-07-31 12:04:08.740 Thread 'MainThread': missing ScriptRunContext! This warning can be ignored when running in bare mode.\n",
      "2025-07-31 12:04:08.740 Thread 'MainThread': missing ScriptRunContext! This warning can be ignored when running in bare mode.\n",
      "2025-07-31 12:04:09.258 Thread 'Thread-20': missing ScriptRunContext! This warning can be ignored when running in bare mode.\n",
      "2025-07-31 12:04:09.265 Thread 'Thread-20': missing ScriptRunContext! This warning can be ignored when running in bare mode.\n",
      "2025-07-31 12:04:09.265 Thread 'Thread-20': missing ScriptRunContext! This warning can be ignored when running in bare mode.\n",
      "2025-07-31 12:04:10.031 Thread 'MainThread': missing ScriptRunContext! This warning can be ignored when running in bare mode.\n",
      "2025-07-31 12:04:10.031 Thread 'MainThread': missing ScriptRunContext! This warning can be ignored when running in bare mode.\n",
      "2025-07-31 12:04:10.031 Thread 'MainThread': missing ScriptRunContext! This warning can be ignored when running in bare mode.\n"
     ]
    },
    {
     "name": "stdout",
     "output_type": "stream",
     "text": [
      "adicionando : INSTITUTO AZURI DE ESTETICA\n"
     ]
    },
    {
     "name": "stderr",
     "output_type": "stream",
     "text": [
      "2025-07-31 12:04:13.038 No runtime found, using MemoryCacheStorageManager\n",
      "2025-07-31 12:04:13.040 Thread 'MainThread': missing ScriptRunContext! This warning can be ignored when running in bare mode.\n",
      "2025-07-31 12:04:13.040 Thread 'MainThread': missing ScriptRunContext! This warning can be ignored when running in bare mode.\n",
      "2025-07-31 12:04:13.040 Thread 'MainThread': missing ScriptRunContext! This warning can be ignored when running in bare mode.\n",
      "2025-07-31 12:04:13.040 Thread 'MainThread': missing ScriptRunContext! This warning can be ignored when running in bare mode.\n",
      "2025-07-31 12:04:13.556 Thread 'Thread-21': missing ScriptRunContext! This warning can be ignored when running in bare mode.\n",
      "2025-07-31 12:04:13.564 Thread 'Thread-21': missing ScriptRunContext! This warning can be ignored when running in bare mode.\n",
      "2025-07-31 12:04:13.565 Thread 'Thread-21': missing ScriptRunContext! This warning can be ignored when running in bare mode.\n",
      "2025-07-31 12:04:14.647 Thread 'MainThread': missing ScriptRunContext! This warning can be ignored when running in bare mode.\n",
      "2025-07-31 12:04:14.647 Thread 'MainThread': missing ScriptRunContext! This warning can be ignored when running in bare mode.\n",
      "2025-07-31 12:04:14.647 Thread 'MainThread': missing ScriptRunContext! This warning can be ignored when running in bare mode.\n"
     ]
    },
    {
     "name": "stdout",
     "output_type": "stream",
     "text": [
      "adicionando : ALMEIDA E GIRON\n"
     ]
    },
    {
     "name": "stderr",
     "output_type": "stream",
     "text": [
      "2025-07-31 12:04:17.655 No runtime found, using MemoryCacheStorageManager\n",
      "2025-07-31 12:04:17.655 Thread 'MainThread': missing ScriptRunContext! This warning can be ignored when running in bare mode.\n",
      "2025-07-31 12:04:17.660 Thread 'MainThread': missing ScriptRunContext! This warning can be ignored when running in bare mode.\n",
      "2025-07-31 12:04:17.663 Thread 'MainThread': missing ScriptRunContext! This warning can be ignored when running in bare mode.\n",
      "2025-07-31 12:04:17.663 Thread 'MainThread': missing ScriptRunContext! This warning can be ignored when running in bare mode.\n",
      "2025-07-31 12:04:18.171 Thread 'Thread-22': missing ScriptRunContext! This warning can be ignored when running in bare mode.\n",
      "2025-07-31 12:04:18.197 Thread 'Thread-22': missing ScriptRunContext! This warning can be ignored when running in bare mode.\n",
      "2025-07-31 12:04:18.197 Thread 'Thread-22': missing ScriptRunContext! This warning can be ignored when running in bare mode.\n",
      "2025-07-31 12:04:18.842 Thread 'MainThread': missing ScriptRunContext! This warning can be ignored when running in bare mode.\n",
      "2025-07-31 12:04:18.845 Thread 'MainThread': missing ScriptRunContext! This warning can be ignored when running in bare mode.\n",
      "2025-07-31 12:04:18.846 Thread 'MainThread': missing ScriptRunContext! This warning can be ignored when running in bare mode.\n"
     ]
    },
    {
     "name": "stdout",
     "output_type": "stream",
     "text": [
      "adicionando : TTDS ODONTOLOGIA E EDUCACAO LTDA\n"
     ]
    },
    {
     "name": "stderr",
     "output_type": "stream",
     "text": [
      "2025-07-31 12:04:21.850 No runtime found, using MemoryCacheStorageManager\n",
      "2025-07-31 12:04:21.855 Thread 'MainThread': missing ScriptRunContext! This warning can be ignored when running in bare mode.\n",
      "2025-07-31 12:04:21.858 Thread 'MainThread': missing ScriptRunContext! This warning can be ignored when running in bare mode.\n",
      "2025-07-31 12:04:21.858 Thread 'MainThread': missing ScriptRunContext! This warning can be ignored when running in bare mode.\n",
      "2025-07-31 12:04:21.858 Thread 'MainThread': missing ScriptRunContext! This warning can be ignored when running in bare mode.\n",
      "2025-07-31 12:04:22.377 Thread 'Thread-23': missing ScriptRunContext! This warning can be ignored when running in bare mode.\n",
      "2025-07-31 12:04:22.380 Thread 'Thread-23': missing ScriptRunContext! This warning can be ignored when running in bare mode.\n",
      "2025-07-31 12:04:22.382 Thread 'Thread-23': missing ScriptRunContext! This warning can be ignored when running in bare mode.\n",
      "2025-07-31 12:04:23.427 Thread 'MainThread': missing ScriptRunContext! This warning can be ignored when running in bare mode.\n",
      "2025-07-31 12:04:23.427 Thread 'MainThread': missing ScriptRunContext! This warning can be ignored when running in bare mode.\n",
      "2025-07-31 12:04:23.427 Thread 'MainThread': missing ScriptRunContext! This warning can be ignored when running in bare mode.\n"
     ]
    },
    {
     "name": "stdout",
     "output_type": "stream",
     "text": [
      "adicionando : LA FEMME LTDA\n"
     ]
    },
    {
     "name": "stderr",
     "output_type": "stream",
     "text": [
      "2025-07-31 12:04:26.436 No runtime found, using MemoryCacheStorageManager\n",
      "2025-07-31 12:04:26.436 Thread 'MainThread': missing ScriptRunContext! This warning can be ignored when running in bare mode.\n",
      "2025-07-31 12:04:26.442 Thread 'MainThread': missing ScriptRunContext! This warning can be ignored when running in bare mode.\n",
      "2025-07-31 12:04:26.443 Thread 'MainThread': missing ScriptRunContext! This warning can be ignored when running in bare mode.\n",
      "2025-07-31 12:04:26.444 Thread 'MainThread': missing ScriptRunContext! This warning can be ignored when running in bare mode.\n",
      "2025-07-31 12:04:26.951 Thread 'Thread-24': missing ScriptRunContext! This warning can be ignored when running in bare mode.\n",
      "2025-07-31 12:04:26.952 Thread 'Thread-24': missing ScriptRunContext! This warning can be ignored when running in bare mode.\n",
      "2025-07-31 12:04:26.952 Thread 'Thread-24': missing ScriptRunContext! This warning can be ignored when running in bare mode.\n",
      "2025-07-31 12:04:27.293 Thread 'MainThread': missing ScriptRunContext! This warning can be ignored when running in bare mode.\n",
      "2025-07-31 12:04:27.293 Thread 'MainThread': missing ScriptRunContext! This warning can be ignored when running in bare mode.\n",
      "2025-07-31 12:04:27.293 Thread 'MainThread': missing ScriptRunContext! This warning can be ignored when running in bare mode.\n"
     ]
    },
    {
     "name": "stdout",
     "output_type": "stream",
     "text": [
      "adicionando : BLUE CLINIC LTDA\n"
     ]
    },
    {
     "name": "stderr",
     "output_type": "stream",
     "text": [
      "2025-07-31 12:04:30.301 No runtime found, using MemoryCacheStorageManager\n",
      "2025-07-31 12:04:30.301 Thread 'MainThread': missing ScriptRunContext! This warning can be ignored when running in bare mode.\n",
      "2025-07-31 12:04:30.301 Thread 'MainThread': missing ScriptRunContext! This warning can be ignored when running in bare mode.\n",
      "2025-07-31 12:04:30.308 Thread 'MainThread': missing ScriptRunContext! This warning can be ignored when running in bare mode.\n",
      "2025-07-31 12:04:30.309 Thread 'MainThread': missing ScriptRunContext! This warning can be ignored when running in bare mode.\n",
      "2025-07-31 12:04:30.817 Thread 'Thread-25': missing ScriptRunContext! This warning can be ignored when running in bare mode.\n",
      "2025-07-31 12:04:30.817 Thread 'Thread-25': missing ScriptRunContext! This warning can be ignored when running in bare mode.\n",
      "2025-07-31 12:04:30.817 Thread 'Thread-25': missing ScriptRunContext! This warning can be ignored when running in bare mode.\n",
      "2025-07-31 12:04:31.412 Thread 'MainThread': missing ScriptRunContext! This warning can be ignored when running in bare mode.\n",
      "2025-07-31 12:04:31.412 Thread 'MainThread': missing ScriptRunContext! This warning can be ignored when running in bare mode.\n",
      "2025-07-31 12:04:31.416 Thread 'MainThread': missing ScriptRunContext! This warning can be ignored when running in bare mode.\n"
     ]
    },
    {
     "name": "stdout",
     "output_type": "stream",
     "text": [
      "adicionando : EVUP TECNOLOGIA DA INFORMACAO LTDA\n"
     ]
    },
    {
     "name": "stderr",
     "output_type": "stream",
     "text": [
      "2025-07-31 12:04:34.419 No runtime found, using MemoryCacheStorageManager\n",
      "2025-07-31 12:04:34.425 Thread 'MainThread': missing ScriptRunContext! This warning can be ignored when running in bare mode.\n",
      "2025-07-31 12:04:34.425 Thread 'MainThread': missing ScriptRunContext! This warning can be ignored when running in bare mode.\n",
      "2025-07-31 12:04:34.425 Thread 'MainThread': missing ScriptRunContext! This warning can be ignored when running in bare mode.\n",
      "2025-07-31 12:04:34.425 Thread 'MainThread': missing ScriptRunContext! This warning can be ignored when running in bare mode.\n",
      "2025-07-31 12:04:34.932 Thread 'Thread-26': missing ScriptRunContext! This warning can be ignored when running in bare mode.\n",
      "2025-07-31 12:04:34.935 Thread 'Thread-26': missing ScriptRunContext! This warning can be ignored when running in bare mode.\n",
      "2025-07-31 12:04:34.935 Thread 'Thread-26': missing ScriptRunContext! This warning can be ignored when running in bare mode.\n",
      "2025-07-31 12:04:35.722 Thread 'MainThread': missing ScriptRunContext! This warning can be ignored when running in bare mode.\n",
      "2025-07-31 12:04:35.724 Thread 'MainThread': missing ScriptRunContext! This warning can be ignored when running in bare mode.\n",
      "2025-07-31 12:04:35.724 Thread 'MainThread': missing ScriptRunContext! This warning can be ignored when running in bare mode.\n"
     ]
    },
    {
     "name": "stdout",
     "output_type": "stream",
     "text": [
      "adicionando : HARMONISER\n",
      "Todas clínicas adicionadas\n"
     ]
    },
    {
     "data": {
      "text/html": [
       "<div>\n",
       "<style scoped>\n",
       "    .dataframe tbody tr th:only-of-type {\n",
       "        vertical-align: middle;\n",
       "    }\n",
       "\n",
       "    .dataframe tbody tr th {\n",
       "        vertical-align: top;\n",
       "    }\n",
       "\n",
       "    .dataframe thead th {\n",
       "        text-align: right;\n",
       "    }\n",
       "</style>\n",
       "<table border=\"1\" class=\"dataframe\">\n",
       "  <thead>\n",
       "    <tr style=\"text-align: right;\">\n",
       "      <th></th>\n",
       "      <th>Clinica</th>\n",
       "      <th>Data</th>\n",
       "      <th>Qual a sua Meta de Faturamento?</th>\n",
       "      <th>Leads Gerados no Dia:</th>\n",
       "      <th>Avaliações Realizadas no Dia:</th>\n",
       "      <th>Atendimentos Realizados no dia.\\n(considerando Avaliação)</th>\n",
       "      <th>Quantidade de Pedidos Gerados no DIa:</th>\n",
       "      <th>Valor Vendido no Dia (somente número):</th>\n",
       "    </tr>\n",
       "  </thead>\n",
       "  <tbody>\n",
       "    <tr>\n",
       "      <th>0</th>\n",
       "      <td>HARMONISER</td>\n",
       "      <td>2025-08-02</td>\n",
       "      <td>45000.0</td>\n",
       "      <td>50.0</td>\n",
       "      <td>20.0</td>\n",
       "      <td>45.0</td>\n",
       "      <td>20.0</td>\n",
       "      <td>6850.0</td>\n",
       "    </tr>\n",
       "  </tbody>\n",
       "</table>\n",
       "</div>"
      ],
      "text/plain": [
       "      Clinica       Data  Qual a sua Meta de Faturamento?  \\\n",
       "0  HARMONISER 2025-08-02                          45000.0   \n",
       "\n",
       "   Leads Gerados no Dia:  Avaliações Realizadas no Dia:  \\\n",
       "0                   50.0                           20.0   \n",
       "\n",
       "   Atendimentos Realizados no dia.\\n(considerando Avaliação)  \\\n",
       "0                                               45.0           \n",
       "\n",
       "   Quantidade de Pedidos Gerados no DIa:  \\\n",
       "0                                   20.0   \n",
       "\n",
       "   Valor Vendido no Dia (somente número):  \n",
       "0                                  6850.0  "
      ]
     },
     "execution_count": 1,
     "metadata": {},
     "output_type": "execute_result"
    }
   ],
   "source": [
    "import pandas as pd \n",
    "import gspread\n",
    "from oauth2client.service_account import ServiceAccountCredentials\n",
    "import calendar\n",
    "from datetime import date, timedelta\n",
    "import holidays\n",
    "from pandas.tseries.offsets import CustomBusinessDay\n",
    "import numpy as np\n",
    "from streamlit_gsheets import GSheetsConnection\n",
    "import streamlit as st\n",
    "import time\n",
    "\n",
    "def load_dataframe(worksheet):\n",
    "\n",
    "  conn = st.connection(\"gsheets\", type=GSheetsConnection)\n",
    "  df = conn.read(worksheet=worksheet)\n",
    "\n",
    "  return df\n",
    "\n",
    "def pegar_dados_google_sheets(month):\n",
    "    df_controle = load_dataframe(\"Aux_clinics\")\n",
    "\n",
    "    list_to_ignore = [\"Padrão\", \"Aux_clinics\"]\n",
    "    df_controle = df_controle.loc[~df_controle[\"CLÍNICA\"].isin(list_to_ignore)]\n",
    "    lista_mentorados = df_controle[\"CLÍNICA\"].unique().tolist()\n",
    "\n",
    "    lista_de_dfs = []\n",
    "\n",
    "    for clinic in lista_mentorados:\n",
    "        time.sleep(3)  # evita estourar a cota: 60/minuto\n",
    "        aba_respostas = load_dataframe(clinic)\n",
    "        aba_respostas[\"Clinica\"] = clinic\n",
    "        lista_de_dfs.append(aba_respostas)\n",
    "        print(f\"adicionando : {clinic}\")\n",
    "\n",
    "    print(\"Todas clínicas adicionadas\")\n",
    "    df_final = pd.concat(lista_de_dfs, ignore_index=True)\n",
    "\n",
    "    df_final[\"Data\"] = pd.to_datetime(df_final[\"Data\"])\n",
    "    df_final['Mês'] =  df_final[\"Data\"].dt.month\n",
    "\n",
    "    df_final = df_final.loc[df_final['Mês'] == month]\n",
    "\n",
    "    df_final_columns = [\n",
    "        'Clinica', 'Data', 'Qual a sua Meta de Faturamento?', 'Leads Gerados no Dia:',\n",
    "        'Avaliações Realizadas no Dia:', 'Atendimentos Realizados no dia.\\n(considerando Avaliação)',\n",
    "        'Quantidade de Pedidos Gerados no DIa:', 'Valor Vendido no Dia (somente número):'\n",
    "    ]\n",
    "\n",
    "    df_final = df_final[df_final_columns]\n",
    "\n",
    "    return df_final\n",
    "\n",
    "today = date.today()\n",
    "tomorrow = today + timedelta(days=1)\n",
    "year = tomorrow.year\n",
    "month = tomorrow.month\n",
    "\n",
    "pegar_dados_google_sheets(month)"
   ]
  },
  {
   "cell_type": "code",
   "execution_count": null,
   "id": "5c49c629",
   "metadata": {},
   "outputs": [],
   "source": [
    "print(month)"
   ]
  },
  {
   "cell_type": "code",
   "execution_count": null,
   "id": "53f00881",
   "metadata": {},
   "outputs": [],
   "source": [
    "def nana(): \n",
    "    # Define o escopo\n",
    "    scope = ['https://spreadsheets.google.com/feeds', 'https://www.googleapis.com/auth/drive']\n",
    "\n",
    "    # Autenticação com o arquivo de credenciais\n",
    "    creds = ServiceAccountCredentials.from_json_keyfile_name('C:/Users/novo1/OneDrive/Desktop/Dev/Dashboard - Mentoria/dashboard-mentoria-465319-1046db5b9602.json', scope)\n",
    "    client = gspread.authorize(creds)\n",
    "\n",
    "    # Abrindo as Planilhas com os dados\n",
    "    planilha_respostas = client.open_by_url(\"https://docs.google.com/spreadsheets/d/1V1d0MsCQxT-a4yChAtLfzVuiXyTzjjiFqw37yASqlmE/edit?gid=1498245696#gid=1498245696\")\n",
    "    planilha_controle = client.open_by_url(\"https://docs.google.com/spreadsheets/d/1BvFVsdi5NBkoA7Lyq64b6T7_ZGBZYBQ5ONTTfWuzB0s/edit?resourcekey=&gid=706238849#gid=706238849\")\n",
    "\n",
    "    # Pegando a aba com as informações de Mentorados\n",
    "    aba_control = planilha_controle.worksheet(\"Forms Control\")\n",
    "    dados_control = aba_control.get_all_records()\n",
    "\n",
    "    # Transformando em dataframe\n",
    "    df_controle = pd.DataFrame(dados_control)\n",
    "\n",
    "    # Criando a lista de mentorados\n",
    "    df_controle = df_controle.loc[df_controle[\"CLÍNICA\"] != 'Padrão']\n",
    "    lista_mentorados = df_controle[\"CLÍNICA\"].unique().tolist()\n",
    "\n",
    "    lista_de_dfs = []\n",
    "\n",
    "    for clinic in lista_mentorados:\n",
    "        aba_respostas = planilha_respostas.worksheet(clinic)\n",
    "        dados_resposta = aba_respostas.get_all_records()\n",
    "\n",
    "        df_respostas = pd.DataFrame(dados_resposta)\n",
    "\n",
    "        df_respostas[\"Clinica\"] = clinic\n",
    "\n",
    "        lista_de_dfs.append(df_respostas)\n",
    "        print(f\"adicionando : {clinic}\")\n",
    "    print(f\"Todas clinicas adicionadas\")\n",
    "    df_final = pd.concat(lista_de_dfs, ignore_index=True)\n",
    "\n",
    "    #Treating Dataframe: \n",
    "\n",
    "    df_final_columns = ['Clinica','Data','Qual a sua Meta de Faturamento?', 'Leads Gerados no Dia:',\n",
    "                        'Avaliações Realizadas no Dia:','Atendimentos Realizados no dia.\\n(considerando Avaliação)',\n",
    "                        'Quantidade de Pedidos Gerados no DIa:','Valor Vendido no Dia (somente número):']\n",
    "\n",
    "    df_final = df_final[df_final_columns]\n",
    "\n",
    "    return df_final"
   ]
  },
  {
   "cell_type": "code",
   "execution_count": null,
   "id": "ad2b1ad4",
   "metadata": {},
   "outputs": [],
   "source": [
    "# Data atual\n",
    "today = date.today()\n",
    "year = today.year\n",
    "month = today.month\n",
    "\n",
    "# start date and end date\n",
    "start_date = f'{year}-{month:02d}-01'\n",
    "end_day = pd.Timestamp(year=year, month=month, day=1).days_in_month\n",
    "end_date = f'{year}-{month:02d}-{end_day}'\n",
    "\n",
    "# Brazilian holidays\n",
    "br_holidays = holidays.CountryHoliday('BR', years=[year])\n",
    "\n",
    "# converting the holidays to list\n",
    "holiday_dates = list(br_holidays.keys())\n",
    "\n",
    "# creating a custom businnes days\n",
    "custom_bday = CustomBusinessDay(holidays=holiday_dates, weekmask='Mon Tue Wed Thu Fri Sat')\n",
    "\n",
    "# generate business days\n",
    "business_days = pd.date_range(start=start_date, end=end_date, freq=custom_bday)\n",
    "num_business_day = len(business_days)\n",
    "\n",
    "# groupby to get the sales by day by mentee\n",
    "venda_diaria_gp = df_final.groupby(['Clinica','Data']).agg({\"Valor Vendido no Dia (somente número):\" : 'sum'}).reset_index()\n",
    "\n",
    "# treating date values\n",
    "venda_diaria_gp['Data'] = pd.to_datetime(venda_diaria_gp['Data'])\n",
    "\n",
    "# sorting values by date\n",
    "venda_diaria_gp = venda_diaria_gp.sort_values(by=['Data'])\n",
    "\n",
    "# tranforming the date for brazilian standard\n",
    "venda_diaria_gp['Data'] = venda_diaria_gp['Data'].dt.strftime('%d/%m/%Y')\n",
    "\n",
    "# formating the df so the columns can be the dates\n",
    "venda_diaria_gp = venda_diaria_gp.pivot_table(index='Data', columns='Clinica', values='Valor Vendido no Dia (somente número):', aggfunc='sum').reset_index()\n",
    "\n",
    "# Calculate total - select all columns except 'Data'\n",
    "vendas_cols = [col for col in venda_diaria_gp.columns if col != 'Data']\n",
    "venda_diaria_gp['Total'] = venda_diaria_gp[vendas_cols].sum(axis=1)\n",
    "\n",
    "# getting the mentee goals \n",
    "metas_por_mentorado = df_final.groupby(['Clinica']).agg({'Qual a sua Meta de Faturamento?' : 'first','Valor Vendido no Dia (somente número):' : 'sum'}).reset_index()\n",
    "\n",
    "metas_por_mentorado[\"Meta_dia_util\"] = (metas_por_mentorado['Qual a sua Meta de Faturamento?'] - metas_por_mentorado['Valor Vendido no Dia (somente número):']) / num_business_day\n",
    "\n",
    "venda_diaria_gp, metas_por_mentorado\n"
   ]
  },
  {
   "cell_type": "code",
   "execution_count": null,
   "id": "d043888b",
   "metadata": {},
   "outputs": [],
   "source": [
    "#Principais KPI´s \n",
    "df_data_kpi = df_final.copy()\n",
    "\n",
    "df_data_kpi['Vendas Dias ticket'] = df_data_kpi['Valor Vendido no Dia (somente número):']\n",
    "\n",
    "df_data_kpi = df_data_kpi.groupby('Clinica').agg({'Qual a sua Meta de Faturamento?':'first',\n",
    "                                                  'Quantidade de Pedidos Gerados no DIa:' : 'sum',\n",
    "                                          'Valor Vendido no Dia (somente número):':'sum',\n",
    "                                          'Vendas Dias ticket' : 'mean',\n",
    "                                          'Atendimentos Realizados no dia.\\n(considerando Avaliação)':'sum',\n",
    "                                          'Avaliações Realizadas no Dia:' : 'sum',\n",
    "                                          'Leads Gerados no Dia:' : 'sum'}).reset_index()\n",
    "\n",
    "\n",
    "df_data_kpi = df_data_kpi.rename(columns={'Qual a sua Meta de Faturamento?':'Meta',\n",
    "                                          'Quantidade de Pedidos Gerados no DIa:' : 'Pedidos',\n",
    "                                'Valor Vendido no Dia (somente número):' : 'Faturamento Total',\n",
    "                                'Vendas Dias ticket' : 'Ticket Médio',\n",
    "                                'Atendimentos Realizados no dia.\\n(considerando Avaliação)' : \"Atendimento No mês\",\n",
    "                                'Avaliações Realizadas no Dia:' : 'Avaliações no Mês',\n",
    "                                'Leads Gerados no Dia:' : 'Leads no Mês'})\n",
    "\n",
    "\n",
    "df_top_kpi = df_data_kpi[[\"Clinica\",'Meta','Pedidos','Faturamento Total','Ticket Médio']].copy()\n",
    "\n",
    "df_top_kpi['Gap/Plus'] = df_top_kpi['Faturamento Total'] - df_top_kpi['Meta']\n",
    "\n",
    "df_top_kpi['Atingimento de Meta (%)'] = df_top_kpi['Faturamento Total'] / df_top_kpi['Meta'] * 100\n",
    "\n",
    "df_top_kpi['Atingimento de Meta (%)'] = df_top_kpi['Atingimento de Meta (%)'].round(2)\n",
    "df_top_kpi['Ticket Médio'] = df_top_kpi['Ticket Médio'].round(2)\n",
    "\n",
    "df_top_kpi"
   ]
  },
  {
   "cell_type": "code",
   "execution_count": null,
   "id": "a6623fbf",
   "metadata": {},
   "outputs": [],
   "source": [
    "# Funil: \n",
    "df_data_funil = df_final.copy()\n",
    "\n",
    "df_data_funil['Vendas Dias ticket'] = df_data_funil['Valor Vendido no Dia (somente número):']\n",
    "\n",
    "df_data_funil = df_data_funil.rename(columns={\n",
    "    'Qual a sua Meta de Faturamento?': 'Meta',\n",
    "    'Quantidade de Pedidos Gerados no DIa:': 'Pedidos',\n",
    "    'Valor Vendido no Dia (somente número):': 'Faturamento Total',\n",
    "    'Vendas Dias ticket': 'Ticket Médio',\n",
    "    'Atendimentos Realizados no dia.\\n(considerando Avaliação)': \"Atendimento No mês\",\n",
    "    'Avaliações Realizadas no Dia:': 'Avaliações no Mês',\n",
    "    'Leads Gerados no Dia:': 'Leads no Mês'\n",
    "})\n",
    "\n",
    "list_of_clincs = df_data_funil['Clinica'].unique().tolist()\n",
    "\n",
    "list_of_funil_df = []\n",
    "\n",
    "for c in list_of_clincs:\n",
    "    df_clinica = df_data_funil[df_data_funil['Clinica'] == c]\n",
    "    \n",
    "    # Agrupando por clínica e agregando as principais métricas\n",
    "    df_agrupado = df_clinica.agg({\n",
    "        'Leads no Mês': 'sum',\n",
    "        'Atendimento No mês': 'sum',\n",
    "        'Avaliações no Mês': 'sum',\n",
    "        'Pedidos': 'sum',\n",
    "        'Ticket Médio': 'mean',\n",
    "        'Faturamento Total': 'sum'\n",
    "    }).reset_index()\n",
    "    \n",
    "    df_agrupado.columns = ['Métrica', 'Valor']\n",
    "    \n",
    "    # Adicionando coluna de Atingimento\n",
    "    df_agrupado['Atingimento'] = '-'\n",
    "    \n",
    "    # Calculando as conversões\n",
    "    for i, row in df_agrupado.iterrows():\n",
    "        if row['Métrica'] == 'Atendimento No mês':\n",
    "            leads = df_agrupado[df_agrupado['Métrica'] == 'Leads no Mês']['Valor'].values[0]\n",
    "            if leads != 0:\n",
    "                df_agrupado.at[i, 'Atingimento'] = row['Valor']/leads\n",
    "                \n",
    "        elif row['Métrica'] == 'Avaliações no Mês':\n",
    "            atendimentos = df_agrupado[df_agrupado['Métrica'] == 'Atendimento No mês']['Valor'].values[0]\n",
    "            if atendimentos != 0:\n",
    "                df_agrupado.at[i, 'Atingimento'] = row['Valor']/atendimentos\n",
    "                \n",
    "        elif row['Métrica'] == 'Pedidos':\n",
    "            avaliacoes = df_agrupado[df_agrupado['Métrica'] == 'Avaliações no Mês']['Valor'].values[0]\n",
    "            if avaliacoes != 0:\n",
    "                df_agrupado.at[i, 'Atingimento'] = row['Valor']/avaliacoes\n",
    "    \n",
    "    # Adicionando a clínica como primeira linha\n",
    "    clinica_row = pd.DataFrame([['Clinica', c, '-']], columns=['Métrica', 'Valor', 'Atingimento'])\n",
    "    df_agrupado = pd.concat([clinica_row, df_agrupado], ignore_index=True)\n",
    "    \n",
    "    list_of_funil_df.append(df_agrupado)\n",
    "\n",
    "# Para acessar o DataFrame formatado da terceira clínica (índice 2)\n",
    "list_of_funil_df[2]"
   ]
  },
  {
   "cell_type": "code",
   "execution_count": null,
   "id": "06e9d0a3",
   "metadata": {},
   "outputs": [],
   "source": [
    "import streamlit as st\n",
    "import pandas as pd\n",
    "from streamlit_gsheets import GSheetsConnection\n",
    "\n",
    "def load_dataframe(worksheet):\n",
    "\n",
    "  conn = st.connection(\"gsheets_2\", type=GSheetsConnection)\n",
    "  df = conn.read(worksheet=worksheet)\n",
    "\n",
    "  return df\n",
    "\n",
    "def update_sheet(worksheet, df):\n",
    "    conn = st.connection(\"gsheets\", type=GSheetsConnection)\n",
    "    conn.update(data=df,worksheet=worksheet)\n",
    "    return df"
   ]
  },
  {
   "cell_type": "code",
   "execution_count": null,
   "id": "6d6ff468",
   "metadata": {},
   "outputs": [],
   "source": [
    "load_dataframe(\"HARMONISER\")"
   ]
  }
 ],
 "metadata": {
  "kernelspec": {
   "display_name": "env",
   "language": "python",
   "name": "python3"
  },
  "language_info": {
   "codemirror_mode": {
    "name": "ipython",
    "version": 3
   },
   "file_extension": ".py",
   "mimetype": "text/x-python",
   "name": "python",
   "nbconvert_exporter": "python",
   "pygments_lexer": "ipython3",
   "version": "3.11.9"
  }
 },
 "nbformat": 4,
 "nbformat_minor": 5
}
